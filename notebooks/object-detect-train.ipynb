{
 "cells": [
  {
   "cell_type": "code",
   "execution_count": null,
   "id": "4e267bab-22c4-4a07-9d6e-ee7fef46f164",
   "metadata": {},
   "outputs": [],
   "source": [
    "!pip install ultralytics"
   ]
  },
  {
   "cell_type": "code",
   "execution_count": null,
   "id": "fcd0ced7-407c-4e0b-9be2-c0ae41ffff83",
   "metadata": {},
   "outputs": [],
   "source": [
    "%cd /opt/app-root/src/\n",
    "!yolo train model=yolov8n.pt batch=2 epochs=100 data=flyingthings.yaml exist_ok=True"
   ]
  },
  {
   "cell_type": "code",
   "execution_count": null,
   "id": "620f760a-0b95-459f-bbc4-cdc3a3e0d4d7",
   "metadata": {},
   "outputs": [],
   "source": [
    "from PIL import Image\n",
    "import IPython.display as display\n",
    "\n",
    "# Set the path to the JPG file\n",
    "image_path = 'runs/detect/train/results.png'\n",
    "\n",
    "# Open the image file\n",
    "image = Image.open(image_path)\n",
    "\n",
    "# Display the image\n",
    "display.display(image)\n"
   ]
  },
  {
   "cell_type": "code",
   "execution_count": null,
   "id": "37c1d3f2-c044-4c99-bc7e-90f867427454",
   "metadata": {},
   "outputs": [],
   "source": [
    "%cd /opt/app-root/src/\n",
    "!yolo predict model=runs/detect/train/weights/best.pt source=datasets/training/valid/images"
   ]
  },
  {
   "cell_type": "code",
   "execution_count": null,
   "id": "e99b52d1-1ca4-4c1d-bad9-258ec12f9780",
   "metadata": {},
   "outputs": [],
   "source": [
    "import os\n",
    "import minio\n",
    "import urllib3\n",
    "\n",
    "# Disable SSL certificate verification\n",
    "urllib3.disable_warnings(urllib3.exceptions.InsecureRequestWarning)\n",
    "\n",
    "# Set up MinIO client with insecure HTTPS\n",
    "minio_endpoint = os.environ.get('minio-endpoint')\n",
    "access_key = os.environ.get('access_key')\n",
    "secret_key = os.environ.get('secret_key')\n",
    "minio_client = minio.Minio(\n",
    "    endpoint=minio_endpoint,\n",
    "    access_key=access_key,\n",
    "    secret_key=secret_key,\n",
    "    secure=True,\n",
    "    http_client=urllib3.PoolManager(cert_reqs='CERT_NONE', assert_hostname=False)\n",
    ")\n",
    "\n",
    "\n",
    "# Set the bucket name and file path\n",
    "bucket_name = 'flyingthings'\n",
    "file_path = 'runs/detect/train/weights/best.pt'\n",
    "\n",
    "# Set the object name (the name under which the file will be stored in the bucket)\n",
    "object_name = 'flyingthings.pt'\n",
    "\n",
    "# Upload the file\n",
    "minio_client.fput_object(bucket_name, object_name, file_path)\n",
    "\n",
    "print(f\"The file '{object_name}' has been uploaded to the '{bucket_name}' bucket.\")\n"
   ]
  },
  {
   "cell_type": "code",
   "execution_count": null,
   "id": "a37aa750-3ede-4b6c-bad6-e9b352a1a670",
   "metadata": {},
   "outputs": [],
   "source": []
  }
 ],
 "metadata": {
  "kernelspec": {
   "display_name": "Python 3.9.16",
   "language": "python",
   "name": "python3"
  },
  "language_info": {
   "codemirror_mode": {
    "name": "ipython",
    "version": 3
   },
   "file_extension": ".py",
   "mimetype": "text/x-python",
   "name": "python",
   "nbconvert_exporter": "python",
   "pygments_lexer": "ipython3",
   "version": "3.9.16"
  }
 },
 "nbformat": 4,
 "nbformat_minor": 5
}
